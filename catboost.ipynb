{
  "nbformat": 4,
  "nbformat_minor": 0,
  "metadata": {
    "colab": {
      "name": "Untitled1.ipynb",
      "provenance": [],
      "authorship_tag": "ABX9TyMGZUUless2pS8E46jFAUMX",
      "include_colab_link": true
    },
    "kernelspec": {
      "name": "python3",
      "display_name": "Python 3"
    },
    "language_info": {
      "name": "python"
    }
  },
  "cells": [
    {
      "cell_type": "markdown",
      "metadata": {
        "id": "view-in-github",
        "colab_type": "text"
      },
      "source": [
        "<a href=\"https://colab.research.google.com/github/Pascalinooo/Info/blob/master/catboost.ipynb\" target=\"_parent\"><img src=\"https://colab.research.google.com/assets/colab-badge.svg\" alt=\"Open In Colab\"/></a>"
      ]
    },
    {
      "cell_type": "code",
      "source": [
        "!pip install catboost\n",
        "!pip install logitboost"
      ],
      "metadata": {
        "colab": {
          "base_uri": "https://localhost:8080/"
        },
        "id": "NWlVDnSE3_X_",
        "outputId": "60bb453b-5cf4-4b84-fb4c-ea7965090ad1"
      },
      "execution_count": null,
      "outputs": [
        {
          "output_type": "stream",
          "name": "stdout",
          "text": [
            "Collecting catboost\n",
            "  Downloading catboost-1.0.4-cp37-none-manylinux1_x86_64.whl (76.1 MB)\n",
            "\u001b[K     |████████████████████████████████| 76.1 MB 1.2 MB/s \n",
            "\u001b[?25hRequirement already satisfied: six in /usr/local/lib/python3.7/dist-packages (from catboost) (1.15.0)\n",
            "Requirement already satisfied: scipy in /usr/local/lib/python3.7/dist-packages (from catboost) (1.4.1)\n",
            "Requirement already satisfied: plotly in /usr/local/lib/python3.7/dist-packages (from catboost) (5.5.0)\n",
            "Requirement already satisfied: graphviz in /usr/local/lib/python3.7/dist-packages (from catboost) (0.10.1)\n",
            "Requirement already satisfied: matplotlib in /usr/local/lib/python3.7/dist-packages (from catboost) (3.2.2)\n",
            "Requirement already satisfied: pandas>=0.24.0 in /usr/local/lib/python3.7/dist-packages (from catboost) (1.3.5)\n",
            "Requirement already satisfied: numpy>=1.16.0 in /usr/local/lib/python3.7/dist-packages (from catboost) (1.21.5)\n",
            "Requirement already satisfied: pytz>=2017.3 in /usr/local/lib/python3.7/dist-packages (from pandas>=0.24.0->catboost) (2018.9)\n",
            "Requirement already satisfied: python-dateutil>=2.7.3 in /usr/local/lib/python3.7/dist-packages (from pandas>=0.24.0->catboost) (2.8.2)\n",
            "Requirement already satisfied: kiwisolver>=1.0.1 in /usr/local/lib/python3.7/dist-packages (from matplotlib->catboost) (1.3.2)\n",
            "Requirement already satisfied: pyparsing!=2.0.4,!=2.1.2,!=2.1.6,>=2.0.1 in /usr/local/lib/python3.7/dist-packages (from matplotlib->catboost) (3.0.7)\n",
            "Requirement already satisfied: cycler>=0.10 in /usr/local/lib/python3.7/dist-packages (from matplotlib->catboost) (0.11.0)\n",
            "Requirement already satisfied: tenacity>=6.2.0 in /usr/local/lib/python3.7/dist-packages (from plotly->catboost) (8.0.1)\n",
            "Installing collected packages: catboost\n",
            "Successfully installed catboost-1.0.4\n",
            "Collecting logitboost\n",
            "  Downloading logitboost-0.7-py3-none-any.whl (9.1 kB)\n",
            "Requirement already satisfied: scikit-learn in /usr/local/lib/python3.7/dist-packages (from logitboost) (1.0.2)\n",
            "Requirement already satisfied: scipy in /usr/local/lib/python3.7/dist-packages (from logitboost) (1.4.1)\n",
            "Requirement already satisfied: numpy in /usr/local/lib/python3.7/dist-packages (from logitboost) (1.21.5)\n",
            "Requirement already satisfied: threadpoolctl>=2.0.0 in /usr/local/lib/python3.7/dist-packages (from scikit-learn->logitboost) (3.1.0)\n",
            "Requirement already satisfied: joblib>=0.11 in /usr/local/lib/python3.7/dist-packages (from scikit-learn->logitboost) (1.1.0)\n",
            "Installing collected packages: logitboost\n",
            "Successfully installed logitboost-0.7\n"
          ]
        }
      ]
    },
    {
      "cell_type": "code",
      "source": [
        "import pandas as pd\n",
        "import numpy as np\n",
        "\n",
        "import os\n",
        "# MODELS\n",
        "from sklearn.ensemble import RandomForestClassifier\n",
        "from sklearn.tree import DecisionTreeRegressor\n",
        "from sklearn.naive_bayes import MultinomialNB, CategoricalNB, GaussianNB\n",
        "from catboost import CatBoostClassifier\n",
        "import logitboost\n",
        "# TUNING\n",
        "from sklearn.utils.class_weight import compute_class_weight\n",
        "from sklearn.model_selection import GridSearchCV, RandomizedSearchCV\n",
        "# SCORES\n",
        "from sklearn.metrics import matthews_corrcoef, make_scorer, balanced_accuracy_score\n",
        "# PREPROCESSING\n",
        "from sklearn import preprocessing\n",
        "from imblearn.over_sampling import SMOTE\n",
        "from scipy.stats import uniform, truncnorm, randint\n",
        "\n",
        "# DATA\n",
        "df_train = pd.read_csv('sample_data/train_complete.csv')\n",
        "df_test = pd.read_csv('sample_data/test_complete.csv')"
      ],
      "metadata": {
        "id": "SwF0v5356O8f"
      },
      "execution_count": null,
      "outputs": []
    },
    {
      "cell_type": "code",
      "source": [
        "###################\n",
        "#### DATA SETS ####\n",
        "###################\n",
        "\n",
        "y_train = df_train['cps19_y']\n",
        "y_test = df_test['cps19_y']\n",
        "X_train = df_train.drop(columns=['cps19_y', 'cps19_prov_id'])\n",
        "X_test = df_test.drop(columns=['cps19_y', 'cps19_prov_id'])"
      ],
      "metadata": {
        "id": "ULStqeYJ4hZN"
      },
      "execution_count": null,
      "outputs": []
    },
    {
      "cell_type": "code",
      "source": [
        "#######################\n",
        "### LABEL ENCONDING ###\n",
        "#######################\n",
        "\n",
        "# SOL : LabelEncoder est pour les y, pas les X!!!\n",
        "# Étant donné que la fonction fit ne prend pas de \"string\", on doit LabelEncode ou HotEncode\n",
        "# toutes nos strings:\n",
        "# OneHotEncoder : https://scikit-learn.org/stable/modules/generated/sklearn.preprocessing.OneHotEncoder.html#sklearn.preprocessing.OneHotEncoder\n",
        "# OrdinalEncoder : https://scikit-learn.org/stable/modules/generated/sklearn.preprocessing.OrdinalEncoder.html#sklearn.preprocessing.OrdinalEncoder\n",
        "\n",
        "def hot_encoder(data):\n",
        "    encoder = preprocessing.OneHotEncoder(sparse=False)\n",
        "    for column in data.columns:\n",
        "        if data[column].dtype == object:\n",
        "            encoded_column = pd.DataFrame(encoder.fit_transform(data[[column]]))\n",
        "            encoded_column.columns = encoder.get_feature_names_out([column])\n",
        "            data = data.join(encoded_column)\n",
        "            data = data.drop(column, axis=1)\n",
        "    return data\n",
        "\n",
        "X_train_encoded = hot_encoder(X_train)\n",
        "X_test_encoded = hot_encoder(X_test)\n",
        "\n",
        "def label_encoder(data):\n",
        "    encoder = preprocessing.LabelEncoder()\n",
        "    data_encoded = encoder.fit_transform(data)\n",
        "    return data_encoded\n",
        "\n",
        "y_train_encoded = label_encoder(y_train)\n",
        "y_test_encoded = label_encoder(y_test)\n",
        "\n",
        "#Regex pour le nom des colonnes qui satisfont XGBOOST\n",
        "X_train_encoded.columns = X_train_encoded.columns.str.replace(\" \",\"\", regex=False).str.replace(\"'\",\"\", regex=False).str.replace(\"<\",\"\", regex=False).str.replace(\">\",\"\", regex=False).str.replace(\"(\",\"\", regex=False).str.replace(\")\",\"\", regex=False).str.replace(\",\",\"\", regex=False).str.replace(\"/\",\"\", regex=False).str.replace(\".\",\"_\", regex=False).str.replace(\"-\",\"_\", regex=False)\n",
        "X_test_encoded.columns = X_test_encoded.columns.str.replace(\" \",\"\", regex=False).str.replace(\"'\",\"\", regex=False).str.replace(\"<\",\"\", regex=False).str.replace(\">\",\"\", regex=False).str.replace(\"(\",\"\", regex=False).str.replace(\")\",\"\", regex=False).str.replace(\",\",\"\", regex=False).str.replace(\"/\",\"\", regex=False).str.replace(\".\",\"_\", regex=False).str.replace(\"-\",\"_\", regex=False)\n",
        "\n",
        "X_train_encoded.pop(\"Unnamed:0\")\n",
        "X_test_encoded.pop(\"Unnamed:0\")"
      ],
      "metadata": {
        "colab": {
          "base_uri": "https://localhost:8080/"
        },
        "id": "RXp7Wiw464F7",
        "outputId": "1c293f5c-87e1-4835-b8fe-414fd0b6e476"
      },
      "execution_count": null,
      "outputs": [
        {
          "output_type": "execute_result",
          "data": {
            "text/plain": [
              "0          1\n",
              "1          2\n",
              "2          3\n",
              "3          4\n",
              "4          5\n",
              "        ... \n",
              "3654    3655\n",
              "3655    3656\n",
              "3656    3657\n",
              "3657    3658\n",
              "3658    3659\n",
              "Name: Unnamed:0, Length: 3659, dtype: int64"
            ]
          },
          "metadata": {},
          "execution_count": 13
        }
      ]
    },
    {
      "cell_type": "code",
      "source": [
        "from itertools import combinations\n",
        "from sklearn.metrics import confusion_matrix\n",
        "from math import sqrt\n",
        "from math import factorial\n",
        "def number_combinations(n, k):\n",
        "    return factorial(n)/(factorial(k)*factorial(n-k))\n",
        "\n",
        "def custom_MMCC(y_true, y_pred):\n",
        "    cm = confusion_matrix(y_true, y_pred)\n",
        "\n",
        "    class_labels = np.sort(pd.unique(y_true))\n",
        "    nbr_classes = len(class_labels)\n",
        "    combin = combinations(class_labels, r=2)\n",
        "\n",
        "    MCC = np.repeat(-np.inf, number_combinations(nbr_classes, 2))\n",
        "\n",
        "    for i, combinaison in enumerate(combin):\n",
        "        class_0, class_1 = combinaison[0], combinaison[1]\n",
        "\n",
        "        # aller chercher les observations seulement in class0 et class1\n",
        "        # faire la matrice de confusion pour ces observations\n",
        "        TP = cm[class_0, class_0]\n",
        "        TN = cm[class_1, class_1]\n",
        "        FN = cm[class_0, class_1]\n",
        "        FP = cm[class_1, class_0]\n",
        "\n",
        "        MCC_i = (TP*TN-FP*FN)/sqrt((TP+FP)*(TP+FN)*(TN+FP)*(TN+FN))\n",
        "        if MCC_i > 1:\n",
        "            print(\"ERROR MCC > 1\", MCC_i)\n",
        "        elif MCC_i < -1:\n",
        "            print(\"ERROR MCC < 1:\", MCC_i)\n",
        "        MCC[i] = MCC_i\n",
        "        \n",
        "    print(MCC)\n",
        "    MMCC = MCC.sum()*2/(nbr_classes*(nbr_classes-1))\n",
        "\n",
        "    return MMCC"
      ],
      "metadata": {
        "id": "QeBAAMrm67ep"
      },
      "execution_count": null,
      "outputs": []
    },
    {
      "cell_type": "code",
      "source": [
        "from sklearn.metrics import make_scorer\n",
        "from sklearn.metrics import fbeta_score\n",
        "from sklearn.metrics import balanced_accuracy_score\n",
        "from sklearn.metrics import recall_score\n",
        "\n",
        "scores_dict = {\n",
        "  #'MMCC': make_scorer(custom_MMCC)\n",
        "  \"Multiclass MCC\": make_scorer(matthews_corrcoef) # semble accepter multiclasse https://scikit-learn.org/stable/modules/model_evaluation.html#matthews-corrcoef\n",
        "  ,\"macro_f2_score\": make_scorer(fbeta_score, beta=2, average='macro')\n",
        "  ,\"balanced_accuracy\": make_scorer(balanced_accuracy_score) # \"balanced_accuracy\"\n",
        "  ,'Average Recall (micro)': make_scorer(recall_score, average = 'micro')\n",
        "}"
      ],
      "metadata": {
        "id": "ArWyqrIR7GFG"
      },
      "execution_count": null,
      "outputs": []
    },
    {
      "cell_type": "code",
      "source": [
        "model_params_random_rf = {\n",
        "    'min_samples_split': randint(2, 10),\n",
        "    'max_depth': [2, 5, 10, 30, 50, 100, None],\n",
        "    'n_estimators': [500],\n",
        "    'min_samples_leaf': randint(1, 10),\n",
        "    'class_weight': ['balanced_subsample', 'balanced']\n",
        "}\n",
        "\n",
        "model_params_random_logitboost = {\n",
        "    'base_estimator': [DecisionTreeRegressor(max_depth=1), DecisionTreeRegressor(max_depth=3)],\n",
        "    'learning_rate': uniform(0.01, 1),\n",
        "    'n_estimators': randint(10, 200)\n",
        "}\n",
        "\n",
        "model_params_random_xgboost = {\n",
        "    'n_estimators': [500],\n",
        "    'learning_rate': uniform(0.01, 1),\n",
        "    'max_depth': [2, 5, 10, 30, 50, 100, None],\n",
        "    'colsample_bytree': uniform(0.01, 1),\n",
        "    'subsample': uniform(0.01, 1)\n",
        "}\n",
        "\n",
        "model_params_random_catboost = {\n",
        "    'n_estimators': randint(100, 500),\n",
        "    'max_depth': [3, 4, 5],\n",
        "    'learning_rate': np.linspace(0.05, 0.2, 10),\n",
        "}\n",
        "\n",
        "grid_rf = {\n",
        "    'min_samples_split': [2, 5],\n",
        "    'max_depth': [2, 5, 10, 30, 50, 100, None],\n",
        "    'n_estimators': [10, 25, 50, 100, 250, 500],\n",
        "    'min_samples_leaf': [1, 2, 5, 8, 10],\n",
        "    'class_weight': ['balanced_subsample', 'balanced']\n",
        "}\n",
        "grid_logit = {\n",
        "    'base_estimator': [DecisionTreeRegressor(max_depth=1), DecisionTreeRegressor(max_depth=3)],\n",
        "    'learning_rate': [0.025, 0.1, 0.25, 0.75, 1],\n",
        "    'n_estimators': [10, 25, 50, 100]\n",
        "}\n",
        "grid_xgboost = {\n",
        "    'n_estimators': [10, 50, 100, 200, 500],\n",
        "    'learning_rate': np.linspace(0.05, 0.2, 10),\n",
        "    'max_depth': [2, 5, 10, 30, 50, 100, None],\n",
        "    #,'predictor':\"pes19_y\"\n",
        "}\n",
        "grid_catboost = {\n",
        "    'max_depth': [3, 4, 5],\n",
        "    'n_estimators': [10, 25, 50, 100],\n",
        "    'learning_rate': np.linspace(0.05, 0.2, 10)\n",
        "}"
      ],
      "metadata": {
        "id": "AgxEGe_87IvQ"
      },
      "execution_count": null,
      "outputs": []
    },
    {
      "cell_type": "code",
      "source": [
        "def eval(model,\n",
        "         grid,\n",
        "         search_type,\n",
        "         n_iter=500,\n",
        "         cv=7,\n",
        "         scoring=scores_dict,\n",
        "         refit=\"macro_f2_score\",\n",
        "         X_train=X_train,\n",
        "         y_train=y_train,\n",
        "         X_train_encoded=X_train_encoded,\n",
        "         y_train_encoded=y_train_encoded,\n",
        "         oversampling=False,\n",
        "         ):\n",
        "    nbr_cpus = os.cpu_count()\n",
        "  \n",
        "    if model == \"RandomForestClassifier\":\n",
        "        model = RandomForestClassifier(random_state=0)\n",
        "\n",
        "    elif model == \"LogitBoost\":\n",
        "        model = logitboost.LogitBoost(random_state=0)\n",
        "\n",
        "    elif model == \"XGBoost\":\n",
        "        model = xgb.XGBClassifier(objective=\"multi:softprob\", random_state=0, use_label_encoder=False,\n",
        "                                  verbosity=0)   \n",
        "    elif model == \"CatBoost\":\n",
        "        categorical_features_indices = np.where(X_train.dtypes == object)[0]\n",
        "        model = CatBoostClassifier(random_seed=1)\n",
        "\n",
        "    # Recherche des meilleurs hyperparamètres par validation croisée\n",
        "    if search_type == \"grid\":\n",
        "        search = GridSearchCV(estimator=model, cv=cv, scoring=scoring, refit=refit, param_grid=grid,\n",
        "                                   n_jobs=nbr_cpus - 2)\n",
        "    elif search_type == \"random\":\n",
        "        search = RandomizedSearchCV(estimator=model, cv=cv, scoring=scoring, refit=refit, param_distributions=grid,\n",
        "                                         n_iter=n_iter, random_state=1)\n",
        "\n",
        "    if model == \"CatBoost\":\n",
        "        #Warning\n",
        "        #Do not use one-hot encoding during preprocessing. This affects both the training speed and the resulting quality\n",
        "        search.fit(X_train, y_train, cat_features=categorical_features_indices)\n",
        "    else:\n",
        "        search.fit(X_train_encoded, y_train_encoded)\n",
        "\n",
        "    print(search.best_params_)\n",
        "    print(\"Multiclass MCC:\", search.cv_results_[\"mean_test_Multiclass MCC\"])\n",
        "    print(\"Macro F2 Score:\", search.cv_results_[\"mean_test_macro_f2_score\"])\n",
        "    print(\"Balanced Accuracy:\", search.cv_results_[\"mean_test_balanced_accuracy\"])\n",
        "    print(\"Average Recall:\", search.cv_results_[\"mean_test_Average Recall (micro)\"])\n",
        "\n",
        "    return search\n",
        "\n",
        "def search_info(search):\n",
        "    return search.cv_results_, search.best_estimator_, search.best_score_, search.best_params_"
      ],
      "metadata": {
        "id": "f7HzK3lc7MOh"
      },
      "execution_count": null,
      "outputs": []
    },
    {
      "cell_type": "code",
      "source": [
        "random_search_params_catboost = eval(model=\"CatBoost\",\n",
        "     search_type=\"random\",\n",
        "     grid=model_params_random_catboost)"
      ],
      "metadata": {
        "id": "5bfJ7Ja_7Qyg"
      },
      "execution_count": null,
      "outputs": []
    },
    {
      "cell_type": "code",
      "source": [
        "import joblib\n",
        "import pickle\n",
        "with open('catboost_random.pkl', 'wb') as file:  \n",
        "    joblib.dump(random_search_params_catboost, file)\n"
      ],
      "metadata": {
        "colab": {
          "base_uri": "https://localhost:8080/",
          "height": 201
        },
        "id": "YLRgt-CZ-wnR",
        "outputId": "fb01e67b-f94b-4a95-bd08-573b1338f360"
      },
      "execution_count": null,
      "outputs": [
        {
          "output_type": "error",
          "ename": "NameError",
          "evalue": "ignored",
          "traceback": [
            "\u001b[0;31m---------------------------------------------------------------------------\u001b[0m",
            "\u001b[0;31mNameError\u001b[0m                                 Traceback (most recent call last)",
            "\u001b[0;32m<ipython-input-1-414751d1adc3>\u001b[0m in \u001b[0;36m<module>\u001b[0;34m()\u001b[0m\n\u001b[1;32m      2\u001b[0m \u001b[0;32mimport\u001b[0m \u001b[0mpickle\u001b[0m\u001b[0;34m\u001b[0m\u001b[0;34m\u001b[0m\u001b[0m\n\u001b[1;32m      3\u001b[0m \u001b[0;32mwith\u001b[0m \u001b[0mopen\u001b[0m\u001b[0;34m(\u001b[0m\u001b[0;34m'catboost_random.pkl'\u001b[0m\u001b[0;34m,\u001b[0m \u001b[0;34m'wb'\u001b[0m\u001b[0;34m)\u001b[0m \u001b[0;32mas\u001b[0m \u001b[0mfile\u001b[0m\u001b[0;34m:\u001b[0m\u001b[0;34m\u001b[0m\u001b[0;34m\u001b[0m\u001b[0m\n\u001b[0;32m----> 4\u001b[0;31m     \u001b[0mjoblib\u001b[0m\u001b[0;34m.\u001b[0m\u001b[0mdump\u001b[0m\u001b[0;34m(\u001b[0m\u001b[0mrandom_search_params_catboost\u001b[0m\u001b[0;34m,\u001b[0m \u001b[0mfile\u001b[0m\u001b[0;34m)\u001b[0m\u001b[0;34m\u001b[0m\u001b[0;34m\u001b[0m\u001b[0m\n\u001b[0m",
            "\u001b[0;31mNameError\u001b[0m: name 'random_search_params_catboost' is not defined"
          ]
        }
      ]
    },
    {
      "cell_type": "code",
      "source": [
        "random_search_params_catboost"
      ],
      "metadata": {
        "id": "qDcJIlOgX7vA",
        "outputId": "36205fdf-1f6d-4dd3-8887-4549880396fd",
        "colab": {
          "base_uri": "https://localhost:8080/",
          "height": 166
        }
      },
      "execution_count": null,
      "outputs": [
        {
          "output_type": "error",
          "ename": "NameError",
          "evalue": "ignored",
          "traceback": [
            "\u001b[0;31m---------------------------------------------------------------------------\u001b[0m",
            "\u001b[0;31mNameError\u001b[0m                                 Traceback (most recent call last)",
            "\u001b[0;32m<ipython-input-2-6ac8a4b85129>\u001b[0m in \u001b[0;36m<module>\u001b[0;34m()\u001b[0m\n\u001b[0;32m----> 1\u001b[0;31m \u001b[0mrandom_search_params_catboost\u001b[0m\u001b[0;34m\u001b[0m\u001b[0;34m\u001b[0m\u001b[0m\n\u001b[0m",
            "\u001b[0;31mNameError\u001b[0m: name 'random_search_params_catboost' is not defined"
          ]
        }
      ]
    }
  ]
}